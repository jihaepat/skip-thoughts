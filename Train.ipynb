{
 "cells": [
  {
   "cell_type": "code",
   "execution_count": 1,
   "metadata": {},
   "outputs": [],
   "source": [
    "import torch\n",
    "from torch import nn\n",
    "from torch.autograd import Variable\n",
    "\n",
    "from data_loader import DataLoader, load_dictionary\n",
    "from model import UniSkip\n",
    "from config import *\n",
    "from datetime import datetime, timedelta"
   ]
  },
  {
   "cell_type": "code",
   "execution_count": 2,
   "metadata": {},
   "outputs": [
    {
     "name": "stdout",
     "output_type": "stream",
     "text": [
      "Loading text file at ./data/patent.refined.sep.unigram.id.txt\n",
      "Making dictionary for these words\n",
      "Using cached dictionary at ./data/patent.refined.sep.unigram.id.txt.pkl\n",
      "Making reverse dictionary\n"
     ]
    }
   ],
   "source": [
    "d = DataLoader(\"./data/patent.refined.sep.unigram.id.txt\")"
   ]
  },
  {
   "cell_type": "code",
   "execution_count": 3,
   "metadata": {},
   "outputs": [],
   "source": [
    "dictionary = load_dictionary(\"./data/patent.refined.sep.unigram.id.txt.pkl\")"
   ]
  },
  {
   "cell_type": "code",
   "execution_count": 5,
   "metadata": {},
   "outputs": [
    {
     "data": {
      "text/plain": [
       "31987"
      ]
     },
     "execution_count": 5,
     "metadata": {},
     "output_type": "execute_result"
    }
   ],
   "source": [
    "len(dictionary)"
   ]
  },
  {
   "cell_type": "code",
   "execution_count": null,
   "metadata": {},
   "outputs": [],
   "source": [
    "spm_vocab = {}\n",
    "with open('/mnt/48TB/temp/patent.refined.sep.mixed.txt.vocab') as f:\n",
    "    for line in f.readlines():\n",
    "        spm_vocab[line.split()[0]] = line.split()[1]\n",
    "[w for w in dictionary if w not in spm_vocab]"
   ]
  },
  {
   "cell_type": "code",
   "execution_count": 3,
   "metadata": {},
   "outputs": [
    {
     "data": {
      "text/plain": [
       "0"
      ]
     },
     "execution_count": 3,
     "metadata": {},
     "output_type": "execute_result"
    }
   ],
   "source": [
    "CUDA_DEVICE"
   ]
  },
  {
   "cell_type": "code",
   "execution_count": 4,
   "metadata": {},
   "outputs": [],
   "source": [
    "mod = UniSkip()\n",
    "if USE_CUDA:\n",
    "    mod.cuda(CUDA_DEVICE)"
   ]
  },
  {
   "cell_type": "code",
   "execution_count": 5,
   "metadata": {},
   "outputs": [],
   "source": [
    "lr = 3e-4\n",
    "optimizer = torch.optim.Adam(params=mod.parameters(), lr=lr)"
   ]
  },
  {
   "cell_type": "code",
   "execution_count": 6,
   "metadata": {},
   "outputs": [],
   "source": [
    "loss_trail = []\n",
    "last_best_loss = None\n",
    "current_time = datetime.utcnow()\n",
    "\n",
    "def debug(i, loss, prev, nex, prev_pred, next_pred):\n",
    "    global loss_trail\n",
    "    global last_best_loss\n",
    "    global current_time\n",
    "\n",
    "    this_loss = loss.data[0]\n",
    "    loss_trail.append(this_loss)\n",
    "    loss_trail = loss_trail[-20:]\n",
    "    new_current_time = datetime.utcnow()\n",
    "    time_elapsed = str(new_current_time - current_time)\n",
    "    current_time = new_current_time\n",
    "    print(\"Iteration {}: time = {} last_best_loss = {}, this_loss = {}\".format(\n",
    "              i, time_elapsed, last_best_loss, this_loss))\n",
    "    \n",
    "    print(\"prev = {}\\nnext = {}\\npred_prev = {}\\npred_next = {}\".format(\n",
    "        d.convert_indices_to_sentences(prev),\n",
    "        d.convert_indices_to_sentences(nex),\n",
    "        d.convert_indices_to_sentences(prev_pred),\n",
    "        d.convert_indices_to_sentences(next_pred),\n",
    "    ))\n",
    "    \n",
    "    try:\n",
    "        trail_loss = sum(loss_trail)/len(loss_trail)\n",
    "        if last_best_loss is None or last_best_loss > trail_loss:\n",
    "            print(\"Loss improved from {} to {}\".format(last_best_loss, trail_loss))\n",
    "            \n",
    "            save_loc = \"./saved_models/skip-best\".format(lr, VOCAB_SIZE)\n",
    "            print(\"saving model at {}\".format(save_loc))\n",
    "            torch.save(mod.state_dict(), save_loc)\n",
    "            \n",
    "            last_best_loss = trail_loss\n",
    "    except Exception as e:\n",
    "       print(\"Couldn't save model because {}\".format(e))"
   ]
  },
  {
   "cell_type": "code",
   "execution_count": null,
   "metadata": {
    "scrolled": true
   },
   "outputs": [
    {
     "name": "stdout",
     "output_type": "stream",
     "text": [
      "Starting training...\n"
     ]
    },
    {
     "name": "stderr",
     "output_type": "stream",
     "text": [
      "/home/gulby/.pyenv/versions/anaconda3-5.2.0/lib/python3.6/site-packages/ipykernel_launcher.py:10: UserWarning: invalid index of a 0-dim tensor. This will be an error in PyTorch 0.5. Use tensor.item() to convert a 0-dim tensor to a Python number\n",
      "  # Remove the CWD from sys.path while we load stuff.\n",
      "/home/gulby/git/skip-thoughts/data_loader.py:62: UserWarning: invalid index of a 0-dim tensor. This will be an error in PyTorch 0.5. Use tensor.item() to convert a 0-dim tensor to a Python number\n",
      "  idx = idx.data[0]\n"
     ]
    },
    {
     "name": "stdout",
     "output_type": "stream",
     "text": [
      "Iteration 0: time = 0:00:08.198329 last_best_loss = None, this_loss = 19.81114959716797\n",
      "prev = 248 5 15 158 17 14 49 415 3628 UNK 21 1128 4217 9721 2597 16 650 14742 282 14097 6622 6756 1013 12358 10549 5154 13 7 842 EOS\n",
      "next = 15 158 16 21 13 38 88 5 14 337 415 3628 UNK 296 3628 5920 11897 1128 4217 9721 2597 16 650 14742 282 14097 6622 6756 1013 EOS\n",
      "pred_prev = 3568 14370 19038 5901 21413 12053 12258 2964 6726 17393 9725 397 2693 22808 20173 25903 3300 21881 23538 18788 15625 7292 14610 5284 4232 16310 370 17402 11967 10759\n",
      "pred_next = 13672 11839 13199 4331 463 16096 2202 9543 12153 7801 8353 16830 17098 526 6190 17098 17186 2122 16396 240 8201 10707 4526 1795 7032 19158 16759 13724 9298 8501\n",
      "Loss improved from None to 19.81114959716797\n",
      "saving model at ./saved_models/skip-best\n",
      "Iteration 100: time = 0:01:01.839654 last_best_loss = 19.81114959716797, this_loss = 17.04083251953125\n",
      "prev = 7145 11758 UNK UNK 7386 47 8940 2263 456 5506 UNK 12 516 316 5 231 7145 11758 4884 21 UNK 7 2664 5852 46 4451 7145 11758 4884 EOS\n",
      "next = 30 903 7145 11758 17013 5506 UNK 12 3824 11326 198 2286 5506 2656 1553 1069 230 12317 9 378 5 59 205 7145 11758 4884 10 60 934 EOS\n",
      "pred_prev = 5 5 5 5 5 5 5 5 5 5 5 5 5 5 5 UNK 5 5 5 5 5 5 5 5 5 5 5 5 5 5\n",
      "pred_next = 5 5 5 5 5 5 5 5 5 5 5 5 5 5 5 5 5 5 5 5 5 5 5 5 5 5 5 5 5 5\n",
      "Loss improved from 19.81114959716797 to 18.42599105834961\n",
      "saving model at ./saved_models/skip-best\n",
      "Iteration 200: time = 0:01:01.632906 last_best_loss = 18.42599105834961, this_loss = 16.484222412109375\n",
      "prev = 5317 412 556 1543 46 5 3370 17 5 2550 6361 106 10138 1575 7 501 2274 7888 5 23 131 1380 2274 UNK 8 EOS EOS EOS EOS EOS\n",
      "next = 4149 3370 17 5 2550 8950 2550 3456 21 640 UNK 3456 12 2877 151 9 1670 4047 40 16 1338 UNK 3456 7 2722 696 224 1380 54 EOS\n",
      "pred_prev = 5 5 5 5 5 5 6 5 5 6 5 5 5 5 5 UNK 5 5 5 6 5 5 5 5 5 5 5 5 5 5\n",
      "pred_next = 5 5 5 5 6 5 5 5 5 UNK 5 5 5 UNK 5 5 25 5 5 5 UNK 5 5 5 UNK 5 5 5 5 5\n",
      "Loss improved from 18.42599105834961 to 17.778736114501953\n",
      "saving model at ./saved_models/skip-best\n",
      "Iteration 300: time = 0:01:02.022837 last_best_loss = 17.778736114501953, this_loss = 15.919554710388184\n",
      "prev = 3825 5 6 131 1534 12789 6 14428 33 19 6 14428 1948 314 1302 12 6871 33 57 626 510 401 1177 279 91 1324 12 178 12179 EOS\n",
      "next = 3825 5 6 24160 2096 1034 131 16 486 897 114 223 552 11285 18 21610 UNK 224 6148 16 17826 19397 1130 476 6008 21181 13 19 2786 EOS\n",
      "pred_prev = 6 5 6 14 UNK 5 5 UNK 5 5 UNK UNK 5 7 5 5 UNK 5 5 UNK UNK 5 5 EOS 5 EOS 5 EOS EOS EOS\n",
      "pred_next = 6 5 6 14 5 5 5 UNK UNK UNK 5 5 UNK 5 5 UNK EOS 7 EOS 5 UNK 5 EOS 5 EOS 5 EOS 7 UNK 5\n",
      "Loss improved from 17.778736114501953 to 17.313940048217773\n",
      "saving model at ./saved_models/skip-best\n",
      "Iteration 400: time = 0:01:02.328102 last_best_loss = 17.313940048217773, this_loss = 16.384353637695312\n",
      "prev = 212 1777 7 181 528 208 10 60 7226 18599 12415 6128 501 104 6546 1511 8 EOS EOS EOS EOS EOS EOS EOS EOS EOS EOS EOS EOS EOS\n",
      "next = 2067 5875 UNK 10 6805 874 8 EOS EOS EOS EOS EOS EOS EOS EOS EOS EOS EOS EOS EOS EOS EOS EOS EOS EOS EOS EOS EOS EOS EOS\n",
      "pred_prev = 15 5 5 UNK 5 7 5 60 UNK UNK 5 5 5 5 EOS EOS 5 5 8 8 8 8 8 8 8 8 8 EOS EOS EOS\n",
      "pred_next = 15 5 5 7 60 5 8 5 5 5 5 5 5 5 5 5 8 8 8 8 8 8 8 8 8 EOS EOS EOS EOS EOS\n",
      "Loss improved from 17.313940048217773 to 17.128023147583008\n",
      "saving model at ./saved_models/skip-best\n",
      "Iteration 500: time = 0:01:03.131022 last_best_loss = 17.128023147583008, this_loss = 15.503103256225586\n",
      "prev = 47 5 502 16 2544 13 21 12049 52 1212 1181 797 16 2544 13 12 194 2456 3102 1181 110 1181 16817 2456 6042 6152 9 25 8 EOS\n",
      "next = 2456 3855 2373 5386 2091 1315 16817 5377 5 1315 4912 10 2167 UNK 12 7933 UNK 10 2694 534 10 179 5599 146 16 15994 2579 1824 4142 EOS\n",
      "pred_prev = 6 UNK 6 5 UNK 5 7 UNK 5 UNK UNK 5 5 UNK 13 7 EOS EOS EOS EOS EOS EOS EOS EOS EOS EOS EOS 25 8 EOS\n",
      "pred_next = 6 5 5 5 UNK 7 5 5 5 6 5 5 60 5 7 UNK 5 5 60 5 5 60 UNK EOS 5 UNK EOS EOS EOS EOS\n",
      "Loss improved from 17.128023147583008 to 16.85720443725586\n",
      "saving model at ./saved_models/skip-best\n",
      "Iteration 600: time = 0:01:03.012526 last_best_loss = 16.85720443725586, this_loss = 15.511564254760742\n",
      "prev = 2666 5 7297 2026 964 46 6609 14491 24 846 7 4338 11 3805 270 8 EOS EOS EOS EOS EOS EOS EOS EOS EOS EOS EOS EOS EOS EOS\n",
      "next = 212 2719 110 26288 7 1253 21 6977 8 EOS EOS EOS EOS EOS EOS EOS EOS EOS EOS EOS EOS EOS EOS EOS EOS EOS EOS EOS EOS EOS\n",
      "pred_prev = 78 5 6 5 UNK 7 5 UNK 5 7 5 UNK 7 UNK 5 8 5 8 8 8 8 8 8 8 8 8 8 8 8 8\n",
      "pred_next = 15 5 7 UNK 5 UNK 5 UNK 8 5 8 8 8 8 8 8 8 8 8 8 8 8 8 8 8 8 8 EOS EOS EOS\n",
      "Loss improved from 16.85720443725586 to 16.66497039794922\n",
      "saving model at ./saved_models/skip-best\n",
      "Iteration 700: time = 0:01:01.586818 last_best_loss = 16.66497039794922, this_loss = 14.883423805236816\n",
      "prev = 78 5 59 893 7 205 18805 2023 318 2271 1023 561 3439 7 11356 105 138 16 22824 47 17666 13 10 4380 19749 8 EOS EOS EOS EOS\n",
      "next = 290 5 15 806 289 56 15 806 114 7 2152 1189 8437 9602 805 2152 21 UNK 8 EOS EOS EOS EOS EOS EOS EOS EOS EOS EOS EOS\n",
      "pred_prev = 6 5 6 UNK 7 UNK 5 5 7 5 UNK UNK 5 5 UNK 8 UNK 5 UNK 13 UNK UNK 7 60 EOS EOS EOS EOS EOS EOS\n",
      "pred_next = 23 5 6 29 17 5 15 29 17 7 UNK 7 5 5 5 7 UNK UNK 5 5 5 5 8 8 8 8 8 8 EOS EOS\n",
      "Loss improved from 16.66497039794922 to 16.442276000976562\n",
      "saving model at ./saved_models/skip-best\n",
      "Iteration 800: time = 0:01:00.966693 last_best_loss = 16.442276000976562, this_loss = 15.403976440429688\n",
      "prev = 2881 5 458 399 15855 60 5 1328 9161 569 452 97 12 2322 7 3809 41 4535 83 5683 41 768 5 30 1328 9161 458 102 15855 EOS\n",
      "next = 4077 5 3434 17 4339 1133 8984 26 2322 7 3056 493 817 878 121 2351 25 8 EOS EOS EOS EOS EOS EOS EOS EOS EOS EOS EOS EOS\n",
      "pred_prev = 23 5 23 5 7 7 5 6 5 7 UNK 5 7 178 9 UNK 7 145 5 5 7 145 5 UNK UNK 7 EOS EOS EOS EOS\n",
      "pred_next = 23 5 23 5 5 7 7 5 5 UNK UNK 7 UNK 5 5 5 5 8 5 8 8 8 8 8 8 8 8 8 EOS EOS\n",
      "Loss improved from 16.442276000976562 to 16.3269100189209\n",
      "saving model at ./saved_models/skip-best\n",
      "Iteration 900: time = 0:01:01.010634 last_best_loss = 16.3269100189209, this_loss = 14.959617614746094\n",
      "prev = 162 7828 46 5 1235 426 8258 343 5 1029 114 13 26 3162 122 8159 72 2772 9624 83 UNK 661 2311 62 10874 10990 2249 3836 5147 EOS\n",
      "next = 15 130 343 17 15 130 289 10 310 396 38 2987 72 15333 117 396 12 74 723 5 712 72 5222 17 263 4707 2776 1754 7 EOS\n",
      "pred_prev = 15 15 5 5 23 7 5 7 5 15 7 7 7 23 7 UNK UNK 7 7 UNK 5 7 7 8 UNK 8 5 EOS EOS EOS\n",
      "pred_next = 23 29 17 5 23 29 10 17 310 152 5 88 UNK 7 UNK UNK 8 194 5 5 UNK 5 7 5 5 7 7 EOS EOS EOS\n",
      "Loss improved from 16.3269100189209 to 16.1901798248291\n",
      "saving model at ./saved_models/skip-best\n",
      "Iteration 1000: time = 0:01:02.071457 last_best_loss = 16.1901798248291, this_loss = 16.173206329345703\n",
      "prev = 6 UNK 13 7 UNK 2841 7365 6825 10002 5 774 12340 UNK 5 774 12340 3586 5 47 195 12340 3586 786 3201 47 37 958 121 3365 EOS\n",
      "next = 6 UNK 2841 7365 11415 10706 843 2183 1350 817 9067 2473 3599 56 1639 23475 3504 221 5383 5 59 5080 3599 3307 24154 582 161 UNK 58 EOS\n",
      "pred_prev = 6 14 7 17 UNK 7 7 UNK 5 5 6 UNK 7 7 UNK UNK 7 7 UNK UNK UNK 7 7 UNK 5 UNK 7 7 5 EOS\n",
      "pred_next = 6 UNK 7 7 UNK 5 UNK UNK UNK 5 UNK UNK UNK UNK UNK 7 7 UNK 451 5 6 UNK 7 7 5 5 5 UNK 7 UNK\n",
      "Loss improved from 16.1901798248291 to 16.188636779785156\n",
      "saving model at ./saved_models/skip-best\n",
      "Iteration 1100: time = 0:01:01.123669 last_best_loss = 16.188636779785156, this_loss = 17.503196716308594\n",
      "prev = 2284 5 8398 4273 34 16809 4430 7 1368 2743 1779 3531 52 11146 1287 1209 3153 11 295 3554 9 918 13021 6279 6380 8581 9 751 175 EOS\n",
      "next = 15 29 26 15 29 26 23 188 106 1287 1209 3153 7 1718 12207 12 746 279 91 4365 11 3277 376 13458 8 EOS EOS EOS EOS EOS\n",
      "pred_prev = 15 5 23 5 5 7 5 7 UNK 7 7 UNK 7 UNK 9 5 5 7 91 UNK 9 25 5 7 UNK 5 5 25 EOS 8\n",
      "pred_next = 78 29 26 23 29 26 23 87 106 UNK 7 7 7 UNK UNK 5 971 8 91 23 7 91 9 EOS 8 EOS EOS EOS EOS EOS\n",
      "Iteration 1200: time = 0:01:01.351976 last_best_loss = 16.188636779785156, this_loss = 14.740998268127441\n",
      "prev = 14 130 237 61 5 6 14 37 3917 7 12308 2056 41 UNK 6 169 14105 37 494 11667 11306 91 670 37 494 4414 3506 4599 136 EOS\n",
      "next = 208 EOS EOS EOS EOS EOS EOS EOS EOS EOS EOS EOS EOS EOS EOS EOS EOS EOS EOS EOS EOS EOS EOS EOS EOS EOS EOS EOS EOS EOS\n",
      "pred_prev = 208 29 237 61 5 6 14 42 375 7 14 7 6 6 7 14 UNK 6 7 UNK 7 8 14 UNK 430 EOS EOS EOS EOS EOS\n",
      "pred_next = 14 5 7 5 5 8 8 8 8 8 8 8 8 8 8 8 8 8 8 8 8 8 8 8 8 8 8 8 8 8\n",
      "Loss improved from 16.188636779785156 to 16.17840003967285\n",
      "saving model at ./saved_models/skip-best\n"
     ]
    },
    {
     "name": "stdout",
     "output_type": "stream",
     "text": [
      "Iteration 1300: time = 0:01:01.860854 last_best_loss = 16.17840003967285, this_loss = 14.982809066772461\n",
      "prev = 78 5 29 1653 1616 7 4224 6052 26 5391 18938 5 322 605 6484 7 7768 17 5 9486 1923 2134 18323 148 5795 7 1923 29 10323 EOS\n",
      "next = 37 1059 7 1923 385 26 UNK 744 346 1567 986 3797 918 5 516 14350 7 UNK 17 159 5 711 10 119 1289 UNK 862 10 60 EOS\n",
      "pred_prev = 23 5 6 7 7 5 UNK UNK 7 5 UNK 5 UNK 605 5 UNK UNK 5 5 UNK 5 5 UNK UNK UNK 7 UNK 11 7 8\n",
      "pred_next = 78 17 UNK UNK 5 5 5 7 7 7 7 5 7 5 6 UNK 7 UNK 10 5 7 UNK 5 60 5 UNK 7 7 60 EOS\n",
      "Loss improved from 16.17840003967285 to 16.093000411987305\n",
      "saving model at ./saved_models/skip-best\n",
      "Iteration 1400: time = 0:01:02.043235 last_best_loss = 16.093000411987305, this_loss = 16.157001495361328\n",
      "prev = 58 7657 10 288 3094 26 6852 143 37 10 106 514 162 19253 39 849 7079 4617 8 EOS EOS EOS EOS EOS EOS EOS EOS EOS EOS EOS\n",
      "next = 422 29 8 EOS EOS EOS EOS EOS EOS EOS EOS EOS EOS EOS EOS EOS EOS EOS EOS EOS EOS EOS EOS EOS EOS EOS EOS EOS EOS EOS\n",
      "pred_prev = UNK UNK 8 179 UNK UNK 5 UNK 8 430 179 UNK 5 UNK 7 8 UNK 5 8 8 8 8 8 8 8 8 8 8 8 8\n",
      "pred_next = 15 29 26 5 5 5 7 7 7 7 8 8 8 8 8 8 8 8 8 8 8 8 8 8 8 8 8 8 8 8\n",
      "Iteration 1500: time = 0:01:01.886426 last_best_loss = 16.093000411987305, this_loss = 14.729568481445312\n",
      "prev = 6 292 11589 325 19 6 14 42 6049 13357 134 8497 9 25 8 EOS EOS EOS EOS EOS EOS EOS EOS EOS EOS EOS EOS EOS EOS EOS\n",
      "next = 6 8636 11589 6 273 8151 6 321 3794 456 65 6899 5241 950 6 14 42 6049 9697 8636 1003 9 25 8 EOS EOS EOS EOS EOS EOS\n",
      "pred_prev = 6 14 7 6 7 6 14 42 UNK 6 6 6 9 25 8 5 8 8 8 8 8 8 8 8 8 8 8 8 EOS EOS\n",
      "pred_next = 6 14 UNK 6 14 7 6 14 7 6 25 6 6 6 6 14 42 UNK 7 7 6 9 25 8 5 8 EOS EOS EOS EOS\n",
      "Loss improved from 16.093000411987305 to 16.011783599853516\n",
      "saving model at ./saved_models/skip-best\n",
      "Iteration 1600: time = 0:01:01.265617 last_best_loss = 16.011783599853516, this_loss = 14.668685913085938\n",
      "prev = 23 213 78 8239 6471 11 9 65 12497 12102 6471 11 9 65 462 391 9460 221 1335 8 EOS EOS EOS EOS EOS EOS EOS EOS EOS EOS\n",
      "next = 12102 6471 11 9 65 5069 17 502 2337 565 UNK 1279 9 65 2271 6219 1036 825 7 163 1310 517 8 EOS EOS EOS EOS EOS EOS EOS\n",
      "pred_prev = 15 213 5 5 UNK 11 194 25 UNK UNK 5 11 UNK 25 UNK 7 5 9 451 8 5 8 8 7 8 8 8 8 EOS EOS\n",
      "pred_next = 23 23 26 UNK 25 23 5 5 7 60 5 5 9 25 UNK UNK UNK UNK 7 UNK 12 UNK 8 5 5 7 EOS EOS EOS EOS\n",
      "Loss improved from 16.011783599853516 to 15.932778358459473\n",
      "saving model at ./saved_models/skip-best\n",
      "Iteration 1700: time = 0:01:00.863824 last_best_loss = 15.932778358459473, this_loss = 14.086712837219238\n",
      "prev = 7619 352 117 12 15237 31 18516 86 799 22 3575 13218 1049 2453 872 5 7619 306 3023 2370 545 77 756 2584 3520 197 6234 3023 151 EOS\n",
      "next = 7619 352 1666 17 2584 16601 18 29775 984 530 17921 16 104 556 7 408 224 2584 16601 2540 10148 1495 249 16 104 556 7 519 13 EOS\n",
      "pred_prev = 15 UNK UNK UNK 194 UNK UNK 9 11 UNK UNK 5 11 62 UNK 5 6 UNK 194 91 62 9 5 258 151 EOS EOS EOS EOS 9\n",
      "pred_next = 78 UNK UNK 17 5 7 8 UNK UNK 7 5 5 UNK 13 13 UNK 13 UNK 7 8 9 5 EOS 8 EOS EOS EOS EOS EOS EOS\n",
      "Loss improved from 15.932778358459473 to 15.830219268798828\n",
      "saving model at ./saved_models/skip-best\n",
      "Iteration 1800: time = 0:01:01.593758 last_best_loss = 15.830219268798828, this_loss = 14.787191390991211\n",
      "prev = 14 42 237 61 5 EOS EOS EOS EOS EOS EOS EOS EOS EOS EOS EOS EOS EOS EOS EOS EOS EOS EOS EOS EOS EOS EOS EOS EOS EOS\n",
      "next = 6 4549 6487 603 722 2219 26 1748 17568 444 12 91 53 7740 1664 3754 14850 8 EOS EOS EOS EOS EOS EOS EOS EOS EOS EOS EOS EOS\n",
      "pred_prev = 6 29 237 61 5 6 5 7 7 7 7 8 8 8 8 8 8 8 8 8 8 8 8 8 8 8 8 8 8 8\n",
      "pred_next = 6 14 UNK 5 6 6 5 6 UNK 5 8 178 68 UNK 8 6 UNK 5 8 8 8 8 8 8 8 8 8 8 8 8\n",
      "Loss improved from 15.830219268798828 to 15.775322914123535\n",
      "saving model at ./saved_models/skip-best\n",
      "Iteration 1900: time = 0:01:01.320355 last_best_loss = 15.775322914123535, this_loss = 13.93454360961914\n",
      "prev = 478 1988 5 137 6029 26 9663 1511 8 EOS EOS EOS EOS EOS EOS EOS EOS EOS EOS EOS EOS EOS EOS EOS EOS EOS EOS EOS EOS EOS\n",
      "next = 59 51 5 478 367 119 15 29 234 10 310 152 88 5 12584 1832 490 2388 2279 137 10665 1243 886 8 EOS EOS EOS EOS EOS EOS\n",
      "pred_prev = 15 1988 5 15 7 7 5 7 8 5 8 7 7 7 7 7 8 8 8 8 8 8 8 8 8 8 8 8 8 8\n",
      "pred_next = 15 51 5 15 17 106 5 29 10 10 310 152 88 5 14 5 UNK 5 UNK 7 7 5 UNK 8 5 8 8 8 EOS EOS\n",
      "Loss improved from 15.775322914123535 to 15.683283805847168\n",
      "saving model at ./saved_models/skip-best\n",
      "Iteration 2000: time = 0:01:01.116356 last_best_loss = 15.683283805847168, this_loss = 14.515161514282227\n",
      "prev = 6 377 29 19 37 46 5 EOS EOS EOS EOS EOS EOS EOS EOS EOS EOS EOS EOS EOS EOS EOS EOS EOS EOS EOS EOS EOS EOS EOS\n",
      "next = 1220 17 3119 5 6870 5 7456 5 4104 17953 47 22643 8262 17953 497 5 EOS EOS EOS EOS EOS EOS EOS EOS EOS EOS EOS EOS EOS EOS\n",
      "pred_prev = 6 UNK 29 56 282 430 5 6 5 7 7 7 7 8 8 8 8 8 8 8 8 8 8 8 8 8 8 8 8 8\n",
      "pred_next = 6 5 5 5 6 5 UNK 5 UNK 5 5 UNK 5 5 5 5 6 5 5 5 5 5 7 7 7 7 7 7 7 8\n",
      "Loss improved from 15.683283805847168 to 15.418486595153809\n",
      "saving model at ./saved_models/skip-best\n",
      "Iteration 2100: time = 0:01:00.812946 last_best_loss = 15.418486595153809, this_loss = 13.672877311706543\n",
      "prev = 6 1110 111 14437 5 6134 36 12977 36 15085 36 884 541 1110 4527 5 6134 36 10479 36 15085 36 884 541 1110 4527 5 6134 36 EOS\n",
      "next = 30 1988 5 6 1110 111 14437 5 2252 1110 4527 22 6134 36 12977 36 15085 36 884 541 148 1110 3866 11 2267 3162 1462 886 8 EOS\n",
      "pred_prev = 78 UNK 7 7 7 6 5 UNK 5 UNK 5 UNK 5 5 5 5 UNK 5 UNK 5 UNK 5 UNK 5 5 5 5 UNK EOS EOS\n",
      "pred_next = 6 40 5 6 UNK 7 7 7 6 5 5 5 UNK UNK UNK UNK UNK 36 114 36 5 5 5 5 UNK 68 8 5 8 EOS\n",
      "Loss improved from 15.418486595153809 to 15.250088691711426\n",
      "saving model at ./saved_models/skip-best\n",
      "Iteration 2200: time = 0:01:01.960719 last_best_loss = 15.250088691711426, this_loss = 13.679664611816406\n",
      "prev = 212 5 23 87 15788 2099 457 5719 1646 9106 7 2099 14235 565 13778 545 144 8 EOS EOS EOS EOS EOS EOS EOS EOS EOS EOS EOS EOS\n",
      "next = 519 5699 114 16055 337 18 1055 1051 EOS EOS EOS EOS EOS EOS EOS EOS EOS EOS EOS EOS EOS EOS EOS EOS EOS EOS EOS EOS EOS EOS\n",
      "pred_prev = 23 5 23 87 615 367 8890 45 23 1728 7 1780 1817 265 23 176 144 8 8 8 8 8 8 8 8 8 8 8 EOS EOS\n",
      "pred_next = 15 8 127 46 18 18 1055 1051 18 18 18 18 18 8 8 8 8 8 8 8 8 8 8 8 8 8 8 8 EOS EOS\n",
      "Loss improved from 15.250088691711426 to 15.10986042022705\n",
      "saving model at ./saved_models/skip-best\n",
      "Iteration 2300: time = 0:01:01.571735 last_best_loss = 15.10986042022705, this_loss = 13.854510307312012\n",
      "prev = 14 42 994 4273 2834 5 3425 11 562 279 258 2267 1067 12 794 157 5 14 42 994 306 5505 5 4806 4467 994 249 8 EOS EOS\n",
      "next = 30 14 42 994 464 5 15 29 10 376 152 88 5 4806 2008 4070 3125 2686 1669 9599 3911 794 249 8 EOS EOS EOS EOS EOS EOS\n",
      "pred_prev = 15 42 UNK 17 61 5 14 5 194 116 91 5 14 7 194 151 5 14 42 UNK 7 194 5 14 7 14 EOS 8 EOS EOS\n",
      "pred_next = 14 40 42 UNK 17 14 14 37 10 310 152 88 5 14 7 14 7 UNK 8 7 7 14 11 8 5 8 8 EOS EOS EOS\n",
      "Loss improved from 15.10986042022705 to 15.006608963012695\n",
      "saving model at ./saved_models/skip-best\n",
      "Iteration 2400: time = 0:01:01.392336 last_best_loss = 15.006608963012695, this_loss = 14.436595916748047\n",
      "prev = 30 77 3507 2388 427 2370 62 4136 6454 119 2454 47 311 17223 596 317 9 359 5 3533 322 605 UNK 21 817 UNK 1284 100 11977 EOS\n",
      "next = 6 3507 1006 16461 51 3729 11 6424 2454 4703 19214 2259 5 506 145 2454 8117 117 596 19 140 1649 2454 21 UNK 703 12780 3199 9782 EOS\n",
      "pred_prev = 6 40 5 7 UNK 7 62 UNK UNK 119 5 UNK UNK UNK UNK 5 9 25 5 6 UNK 605 5 UNK UNK UNK 7 31 221 UNK\n",
      "pred_next = 78 UNK 17 UNK UNK 5 7 UNK UNK UNK UNK UNK 5 UNK 145 UNK UNK UNK UNK 19 UNK UNK UNK UNK UNK UNK 25 EOS EOS EOS\n",
      "Loss improved from 15.006608963012695 to 14.909219741821289\n",
      "saving model at ./saved_models/skip-best\n",
      "Iteration 2500: time = 0:01:00.845160 last_best_loss = 14.909219741821289, this_loss = 16.79497718811035\n",
      "prev = 18858 EOS EOS EOS EOS EOS EOS EOS EOS EOS EOS EOS EOS EOS EOS EOS EOS EOS EOS EOS EOS EOS EOS EOS EOS EOS EOS EOS EOS EOS\n",
      "next = UNK 5965 1839 7012 16 11089 101 1418 5181 371 13 EOS EOS EOS EOS EOS EOS EOS EOS EOS EOS EOS EOS EOS EOS EOS EOS EOS EOS EOS\n",
      "pred_prev = UNK 8 16 16 16 16 8 8 8 8 8 8 8 8 8 8 8 8 8 8 8 8 8 8 8 8 8 8 8 EOS\n",
      "pred_next = UNK UNK UNK 16 18 UNK 13 13 13 13 13 UNK 16 16 16 16 16 16 16 16 16 16 16 16 16 16 16 16 55 EOS\n"
     ]
    },
    {
     "name": "stdout",
     "output_type": "stream",
     "text": [
      "Iteration 2600: time = 0:01:01.217427 last_best_loss = 14.909219741821289, this_loss = 14.58656120300293\n",
      "prev = 15 158 17 5 23 87 101 UNK 106 185 3124 1206 1168 5810 8 EOS EOS EOS EOS EOS EOS EOS EOS EOS EOS EOS EOS EOS EOS EOS\n",
      "next = 15 158 12 1327 5 23 5363 106 185 3124 1206 1618 5 185 3124 1471 146 5 185 3124 780 146 5 598 146 5 1019 14602 611 EOS\n",
      "pred_prev = 15 252 17 23 23 87 101 367 5 UNK UNK 7 7 UNK 8 5 8 7 7 7 7 7 7 7 7 7 7 8 EOS EOS\n",
      "pred_next = 15 252 17 1327 5 23 87 106 UNK UNK 7 19 5 UNK UNK 7 7 19 19 5 5 19 5 19 5 5 19 EOS 5 EOS\n",
      "Iteration 2700: time = 0:01:01.135995 last_best_loss = 14.909219741821289, this_loss = 14.192493438720703\n",
      "prev = 30 1712 UNK 12 194 9282 1765 2334 8 EOS EOS EOS EOS EOS EOS EOS EOS EOS EOS EOS EOS EOS EOS EOS EOS EOS EOS EOS EOS EOS\n",
      "next = 3388 26 7521 12923 197 3451 406 3732 32 371 168 5593 889 1070 16 9046 2932 11 2538 8 EOS EOS EOS EOS EOS EOS EOS EOS EOS EOS\n",
      "pred_prev = UNK 40 UNK 5 UNK UNK 5 688 8 5 8 8 8 8 8 8 8 8 8 8 8 8 8 8 8 8 8 8 8 8\n",
      "pred_next = UNK 8 UNK UNK 7 UNK UNK 11 UNK UNK 16 7 7 8 5 UNK 5 13 UNK 8 5 8 8 8 8 8 8 8 8 8\n",
      "Loss improved from 14.909219741821289 to 14.893017768859863\n",
      "saving model at ./saved_models/skip-best\n"
     ]
    }
   ],
   "source": [
    "print(\"Starting training...\")\n",
    "\n",
    "# a million iterations\n",
    "for i in range(0, 894100):\n",
    "    sentences, lengths = d.fetch_batch(32 * 10)\n",
    "\n",
    "    loss, prev, nex, prev_pred, next_pred  = mod(sentences, lengths)\n",
    "    \n",
    "\n",
    "    if i % 100 == 0:\n",
    "        debug(i, loss, prev, nex, prev_pred, next_pred)\n",
    "\n",
    "    optimizer.zero_grad()\n",
    "    loss.backward()\n",
    "    optimizer.step()"
   ]
  },
  {
   "cell_type": "code",
   "execution_count": null,
   "metadata": {},
   "outputs": [],
   "source": []
  }
 ],
 "metadata": {
  "kernelspec": {
   "display_name": "Python 3",
   "language": "python",
   "name": "python3"
  },
  "language_info": {
   "codemirror_mode": {
    "name": "ipython",
    "version": 3
   },
   "file_extension": ".py",
   "mimetype": "text/x-python",
   "name": "python",
   "nbconvert_exporter": "python",
   "pygments_lexer": "ipython3",
   "version": "3.6.5"
  }
 },
 "nbformat": 4,
 "nbformat_minor": 2
}
